{
 "cells": [
  {
   "cell_type": "code",
   "execution_count": 1,
   "id": "37b010fa",
   "metadata": {},
   "outputs": [
    {
     "name": "stderr",
     "output_type": "stream",
     "text": [
      "/usr/local/lib/python3.9/site-packages/IPython/core/interactiveshell.py:3251: DtypeWarning: Columns (67) have mixed types.Specify dtype option on import or set low_memory=False.\n",
      "  exec(code_obj, self.user_global_ns, self.user_ns)\n"
     ]
    }
   ],
   "source": [
    "import numpy as np\n",
    "import pandas as pd\n",
    "\n",
    "df = pd.read_csv('listings.csv')"
   ]
  },
  {
   "cell_type": "code",
   "execution_count": 2,
   "id": "5f0173e6",
   "metadata": {},
   "outputs": [],
   "source": [
    "# Drop Unnecessary Columns\n",
    "\n",
    "# Given how large the dataset was, I knew that I would not be looking at some of the columns and could drop them right away. \n",
    "# These columns included: listing_url, scrape_id, host_id, host_url, host_name, host_thumbnail_url, host_picture_url, host_listings_count, neighbourhood, latitude, longitude, minimum_minimum_nights, maximum_minimum_nights, minimum_maximum_nights, maximum_maximum_nights, minimum_nights_avg_ntm, maximum_nights_avg_ntm, calendar_last_scraped, license\n",
    "\n",
    "df.drop(['listing_url', 'scrape_id', 'host_id', 'host_url', 'host_name', 'host_thumbnail_url', 'host_picture_url', 'host_listings_count', 'neighbourhood', 'latitude', 'longitude', 'minimum_minimum_nights', 'maximum_minimum_nights', 'minimum_maximum_nights', 'maximum_maximum_nights', 'minimum_nights_avg_ntm', 'maximum_nights_avg_ntm', 'calendar_last_scraped', 'license'], axis=1, inplace=True)"
   ]
  },
  {
   "cell_type": "code",
   "execution_count": 3,
   "id": "18e37b80",
   "metadata": {},
   "outputs": [
    {
     "data": {
      "text/plain": [
       "(38185, 55)"
      ]
     },
     "execution_count": 3,
     "metadata": {},
     "output_type": "execute_result"
    }
   ],
   "source": [
    "df.shape"
   ]
  },
  {
   "cell_type": "markdown",
   "id": "20a7b1cb",
   "metadata": {},
   "source": [
    "After dropping an initial 19 columns, I can now look at the remaining columns and see what kind of data lies in these columns"
   ]
  },
  {
   "cell_type": "code",
   "execution_count": 4,
   "id": "8b377fb6",
   "metadata": {},
   "outputs": [
    {
     "data": {
      "text/plain": [
       "['bathrooms', 'calendar_updated']"
      ]
     },
     "execution_count": 4,
     "metadata": {},
     "output_type": "execute_result"
    }
   ],
   "source": [
    "# Which columns had all missing values? \n",
    "\n",
    "df.columns[df.isnull().all()].tolist()"
   ]
  },
  {
   "cell_type": "code",
   "execution_count": 5,
   "id": "9463a0d7",
   "metadata": {},
   "outputs": [],
   "source": [
    "# Drop the two columns with all missing values\n",
    "\n",
    "df.drop(['bathrooms', 'calendar_updated'], axis=1, inplace=True)"
   ]
  },
  {
   "cell_type": "code",
   "execution_count": 6,
   "id": "64f0cc77",
   "metadata": {},
   "outputs": [
    {
     "data": {
      "text/plain": [
       "(38185, 53)"
      ]
     },
     "execution_count": 6,
     "metadata": {},
     "output_type": "execute_result"
    }
   ],
   "source": [
    "df.shape"
   ]
  },
  {
   "cell_type": "code",
   "execution_count": 7,
   "id": "756d0426",
   "metadata": {},
   "outputs": [
    {
     "data": {
      "text/plain": [
       "27"
      ]
     },
     "execution_count": 7,
     "metadata": {},
     "output_type": "execute_result"
    }
   ],
   "source": [
    "# How many other columns had missing values?\n",
    "\n",
    "df.isnull().any().sum()"
   ]
  },
  {
   "cell_type": "code",
   "execution_count": 8,
   "id": "6fd6fe5d",
   "metadata": {},
   "outputs": [
    {
     "data": {
      "text/plain": [
       "0.5094339622641509"
      ]
     },
     "execution_count": 8,
     "metadata": {},
     "output_type": "execute_result"
    }
   ],
   "source": [
    "# What is the proportion of columns that had missing values?\n",
    "\n",
    "df.isnull().any().sum()/ df.shape[1]"
   ]
  },
  {
   "cell_type": "code",
   "execution_count": 11,
   "id": "4409a131",
   "metadata": {},
   "outputs": [
    {
     "data": {
      "text/plain": [
       "id                                              0.000000\n",
       "last_scraped                                    0.000000\n",
       "name                                            0.000367\n",
       "description                                     0.029017\n",
       "neighborhood_overview                           0.409192\n",
       "picture_url                                     0.000000\n",
       "host_since                                      0.001231\n",
       "host_location                                   0.003902\n",
       "host_about                                      0.427210\n",
       "host_response_time                              0.374231\n",
       "host_response_rate                              0.374231\n",
       "host_acceptance_rate                            0.348566\n",
       "host_is_superhost                               0.001231\n",
       "host_neighbourhood                              0.194422\n",
       "host_total_listings_count                       0.001231\n",
       "host_verifications                              0.000000\n",
       "host_has_profile_pic                            0.001231\n",
       "host_identity_verified                          0.001231\n",
       "neighbourhood_cleansed                          0.000000\n",
       "neighbourhood_group_cleansed                    0.000000\n",
       "property_type                                   0.000000\n",
       "room_type                                       0.000000\n",
       "accommodates                                    0.000000\n",
       "bathrooms_text                                  0.002697\n",
       "bedrooms                                        0.101846\n",
       "beds                                            0.033704\n",
       "amenities                                       0.000000\n",
       "price                                           0.000000\n",
       "minimum_nights                                  0.000000\n",
       "maximum_nights                                  0.000000\n",
       "has_availability                                0.000000\n",
       "availability_30                                 0.000000\n",
       "availability_60                                 0.000000\n",
       "availability_90                                 0.000000\n",
       "availability_365                                0.000000\n",
       "number_of_reviews                               0.000000\n",
       "number_of_reviews_ltm                           0.000000\n",
       "number_of_reviews_l30d                          0.000000\n",
       "first_review                                    0.240304\n",
       "last_review                                     0.240304\n",
       "review_scores_rating                            0.240304\n",
       "review_scores_accuracy                          0.255572\n",
       "review_scores_cleanliness                       0.255283\n",
       "review_scores_checkin                           0.255729\n",
       "review_scores_communication                     0.255467\n",
       "review_scores_location                          0.255807\n",
       "review_scores_value                             0.255833\n",
       "instant_bookable                                0.000000\n",
       "calculated_host_listings_count                  0.000000\n",
       "calculated_host_listings_count_entire_homes     0.000000\n",
       "calculated_host_listings_count_private_rooms    0.000000\n",
       "calculated_host_listings_count_shared_rooms     0.000000\n",
       "reviews_per_month                               0.240304\n",
       "dtype: float64"
      ]
     },
     "execution_count": 11,
     "metadata": {},
     "output_type": "execute_result"
    }
   ],
   "source": [
    "# What is the frequency of missing data in the columns? \n",
    "\n",
    "df.isnull().mean()"
   ]
  },
  {
   "cell_type": "code",
   "execution_count": 12,
   "id": "c7e7de6e",
   "metadata": {},
   "outputs": [
    {
     "data": {
      "text/plain": [
       "0"
      ]
     },
     "execution_count": 12,
     "metadata": {},
     "output_type": "execute_result"
    }
   ],
   "source": [
    "# How many columns have more than half of data missing?\n",
    "\n",
    "np.sum(np.sum(df.isnull())/df.shape[0] > .5)"
   ]
  },
  {
   "cell_type": "code",
   "execution_count": 13,
   "id": "35bb96fb",
   "metadata": {},
   "outputs": [
    {
     "data": {
      "text/plain": [
       "11"
      ]
     },
     "execution_count": 13,
     "metadata": {},
     "output_type": "execute_result"
    }
   ],
   "source": [
    "# How many columns have more than 25% of data missing?\n",
    "\n",
    "np.sum(np.sum(df.isnull())/df.shape[0] > .25)"
   ]
  },
  {
   "cell_type": "code",
   "execution_count": 14,
   "id": "69bcc818",
   "metadata": {
    "scrolled": false
   },
   "outputs": [
    {
     "data": {
      "text/plain": [
       "{'accommodates',\n",
       " 'amenities',\n",
       " 'availability_30',\n",
       " 'availability_365',\n",
       " 'availability_60',\n",
       " 'availability_90',\n",
       " 'calculated_host_listings_count',\n",
       " 'calculated_host_listings_count_entire_homes',\n",
       " 'calculated_host_listings_count_private_rooms',\n",
       " 'calculated_host_listings_count_shared_rooms',\n",
       " 'has_availability',\n",
       " 'host_verifications',\n",
       " 'id',\n",
       " 'instant_bookable',\n",
       " 'last_scraped',\n",
       " 'maximum_nights',\n",
       " 'minimum_nights',\n",
       " 'neighbourhood_cleansed',\n",
       " 'neighbourhood_group_cleansed',\n",
       " 'number_of_reviews',\n",
       " 'number_of_reviews_l30d',\n",
       " 'number_of_reviews_ltm',\n",
       " 'picture_url',\n",
       " 'price',\n",
       " 'property_type',\n",
       " 'room_type'}"
      ]
     },
     "execution_count": 14,
     "metadata": {},
     "output_type": "execute_result"
    }
   ],
   "source": [
    "# Which columns had no missing values?\n",
    "\n",
    "set(df.columns[~df.isnull().any()])"
   ]
  },
  {
   "cell_type": "code",
   "execution_count": 22,
   "id": "98613883",
   "metadata": {},
   "outputs": [],
   "source": [
    "# save as clean csv\n",
    "\n",
    "df.to_csv('listings_initial_clean.csv', line_terminator='\\r\\n', index=False)"
   ]
  },
  {
   "cell_type": "markdown",
   "id": "237d6a18",
   "metadata": {},
   "source": [
    "In this initial data cleaning, I removed 19 columns in my listings dataset that I knew would not be needed to answer my questions. After some digging, I found 2 columns that had all missing values and could be removed from the dataset. Over 50% of the columns have missing data and 11 columns have more than 25% of missing data. As these columns might contain useful information, they were not dropped. "
   ]
  },
  {
   "cell_type": "code",
   "execution_count": 23,
   "id": "b1a2f950",
   "metadata": {},
   "outputs": [
    {
     "data": {
      "text/plain": [
       "(38185, 53)"
      ]
     },
     "execution_count": 23,
     "metadata": {},
     "output_type": "execute_result"
    }
   ],
   "source": [
    "df1 = pd.read_csv('listings_initial_clean.csv')\n",
    "df1.shape"
   ]
  },
  {
   "cell_type": "code",
   "execution_count": null,
   "id": "ed58c8e1",
   "metadata": {},
   "outputs": [],
   "source": []
  }
 ],
 "metadata": {
  "kernelspec": {
   "display_name": "Python 3 (ipykernel)",
   "language": "python",
   "name": "python3"
  },
  "language_info": {
   "codemirror_mode": {
    "name": "ipython",
    "version": 3
   },
   "file_extension": ".py",
   "mimetype": "text/x-python",
   "name": "python",
   "nbconvert_exporter": "python",
   "pygments_lexer": "ipython3",
   "version": "3.9.9"
  }
 },
 "nbformat": 4,
 "nbformat_minor": 5
}
